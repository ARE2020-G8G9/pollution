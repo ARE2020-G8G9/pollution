{
 "cells": [
  {
   "cell_type": "code",
   "execution_count": null,
   "metadata": {},
   "outputs": [],
   "source": [
    "\n",
    "import matplotlib.pyplot as plt\n",
    "import random\n",
    "\n",
    "\n",
    "\n"
   ]
  },
  {
   "cell_type": "code",
   "execution_count": null,
   "metadata": {},
   "outputs": [],
   "source": [
    "def monde_separe (ps, pm):\n",
    "     \"\"\"int*int->list[int]\"\"\"\n",
    "     #L:list[int]\n",
    "     L=[]\n",
    "     #p1:int\n",
    "     for p1 in range (0, ps):\n",
    "          L.append(0)\n",
    "     #p2:int\n",
    "     for p2 in range (0, pm):\n",
    "          L.append(1)\n",
    "     return L\n",
    "\n",
    "labels = 'Pigeon malade', 'Pigeon saint'\n",
    "sizes = [(7*100)/(4+7),(4*100)/(4+7) ]\n",
    "colors = [\"red\", \"green\"]\n",
    "\n",
    "plt.pie(sizes, labels=labels, colors=colors, \n",
    "        autopct='%1.1f%%', shadow=True, startangle=90)\n",
    "\n",
    "plt.axis('equal')\n",
    "\n",
    "plt.savefig('PieChart01.png')\n",
    "plt.show()\n",
    "\n"
   ]
  },
  {
   "cell_type": "code",
   "execution_count": null,
   "metadata": {},
   "outputs": [],
   "source": [
    "def indice_pigeon_vulnérable(ps,pm):\n",
    "    \"\"\"int*int ->int\"\"\"\n",
    "    #L:list[int]\n",
    "    L=monde_separe(ps,pm)\n",
    "    #i:int\n",
    "    i=len(monde_separe(ps,pm))-1\n",
    "    while i >= 0:\n",
    "        if L[i]==0:\n",
    "            return i\n",
    "        else:\n",
    "            i=i-1\n",
    "\n",
    "assert indice_pigeon_vulnérable(3,2)==2\n"
   ]
  },
  {
   "cell_type": "code",
   "execution_count": null,
   "metadata": {},
   "outputs": [],
   "source": [
    "def transmission(ps,pm, t):    \n",
    "   \"\"\"\" int **3 -> list[Number]\"\"\"\n",
    "   L=monde_separe(ps,pm)\n",
    "   #LR:list[Number]\n",
    "   LR=[]\n",
    "   LRR=[]\n",
    "   #h:int\n",
    "   h=1\n",
    "   h1=h\n",
    "   h2=0\n",
    "   k=0\n",
    "   #pigeon_risque:int\n",
    "   pigeon_risque=indice_pigeon_vulnérable(ps,pm)\n",
    "   while h<=t and len(LR)<=len(L):\n",
    "       if h==1:\n",
    "               LR=[100 for l in range  (0,len(L)-pigeon_risque+1) ]\n",
    "               LR=[50] + LR   \n",
    "       else:\n",
    "          if h==2:\n",
    "               h2=1\n",
    "               LR=[(h2*100)/24]+[(h1*100) /24]+LR[1:len(LR)]\n",
    "​\n",
    "          elif LR[1]>50 and LR[1]<100:\n",
    "               if LRR==[]:\n",
    "                   LR=[(h2*100)/24]+[(h1*100) /24]+LR[1:len(LR)]\n",
    "               else:\n",
    "                   LR=[(h2*100)/24]+[(h1*100) /24]+LRR\n",
    "                   if h!=h1:\n",
    "                       h1=h1+1\n",
    "               h2=h2+1  \n",
    "​ \n",
    "          elif LR[0]==50 and LR[1]==100:\n",
    "               k=k+1\n",
    "               LRR=[100 for 100 in range (0, k+pm) ]\n",
    "               h2=1\n",
    "               LR=[(h2*100)/24]+[(h1*100) /24]+LRR\n",
    "               h1=12           \n",
    "       h=h+1\n",
    "   return LR\n"
   ]
  },
  {
   "cell_type": "code",
   "execution_count": null,
   "metadata": {},
   "outputs": [],
   "source": [
    "def assemblage_pigeon_transmission(ps, pm, t):\n",
    "    \"\"\"int*int*int->dict[int:Number]\"\"\"\n",
    "    #Lpigeon:list[int]\n",
    "    Lpigeon=monde_separe(ps,pm)\n",
    "    #Ltransmission:list[Number]\n",
    "    Ltransmission=transmission(ps,pm,t)\n",
    "    #Dexp:dict[int:Number]\n",
    "    Dexp={p:t for p in Lpigeon  for t in Ltransmission}\n",
    "    for p in Dexp:\n",
    "    if Dexp[p]==100 and p==0:\n",
    "        DR[1]=100\n",
    "    else:\n",
    "        DR[p]=DR[p]\n",
    "   return DR\n",
    "\n",
    "\n"
   ]
  },
  {
   "cell_type": "code",
   "execution_count": null,
   "metadata": {},
   "outputs": [],
   "source": [
    "def division_sante_apres(ps, pm, t):\n",
    "    \"\"\"int**3 ->tuple[Number,Number]\"\"\"\n",
    "    D=assemblage_pigeon_transmission(ps, pm, t)\n",
    "    m=0\n",
    "    for d in D:\n",
    "        if d==1:\n",
    "            m=m+1\n",
    "    return (len(D)-1 -m , m)\n",
    "\n",
    "labels = 'Pigeon malade', 'Pigeon saint'\n",
    "#:tuple[Number,Number]\n",
    "T=division_sante_apres(4, 7, 12)\n",
    "sizes = [T[2],T[1] ]\n",
    "colors = [\"red\", \"green\"]\n",
    "\n",
    "plt.pie(sizes, labels=labels, colors=colors, \n",
    "        autopct='%1.1f%%', shadow=True, startangle=90)\n",
    "\n",
    "plt.axis('equal')\n",
    "\n",
    "plt.savefig('PieChart01.png')\n",
    "plt.show()\n",
    "\n"
   ]
  },
  {
   "cell_type": "code",
   "execution_count": null,
   "metadata": {},
   "outputs": [],
   "source": [
    "def division_sante_apres(ps, pm, t):\n",
    "    \"\"\"int**3 ->tuple[Number,Number]\"\"\"\n",
    "    D=assemblage_pigeon_transmission(ps, pm, t)\n",
    "    m=0\n",
    "    for d in D:\n",
    "        if d==1:\n",
    "            m=m+1\n",
    "    return (len(D)-1 -m , m)\n",
    "\n"
   ]
  },
  {
   "cell_type": "code",
   "execution_count": null,
   "metadata": {},
   "outputs": [],
   "source": [
    "def vol(ps,pm,t):\t\n",
    "    “””int**3 -> bool”””\n",
    "    G=assemblage_pigeon_transmission(ps, pm, t)\n",
    "    s=0\n",
    "    k=0\n",
    "    moy_s=0\n",
    "        for g in G:\n",
    "            if g==0:\n"
   ]
  },
  {
   "cell_type": "code",
   "execution_count": null,
   "metadata": {},
   "outputs": [],
   "source": []
  }
 ],
 "metadata": {
  "kernelspec": {
   "display_name": "Python 3",
   "language": "python",
   "name": "python3"
  },
  "language_info": {
   "codemirror_mode": {
    "name": "ipython",
    "version": 3
   },
   "file_extension": ".py",
   "mimetype": "text/x-python",
   "name": "python",
   "nbconvert_exporter": "python",
   "pygments_lexer": "ipython3",
   "version": "3.7.6"
  }
 },
 "nbformat": 4,
 "nbformat_minor": 4
}
